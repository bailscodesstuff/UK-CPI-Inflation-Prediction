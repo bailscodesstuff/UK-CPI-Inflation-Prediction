{
 "cells": [
  {
   "cell_type": "code",
   "execution_count": 2,
   "id": "05862b64",
   "metadata": {},
   "outputs": [],
   "source": [
    "import pandas as pd, numpy as np\n",
    "import matplotlib.pyplot as plt, seaborn as sns\n",
    "%matplotlib inline\n",
    "from pprint import pprint"
   ]
  },
  {
   "cell_type": "code",
   "execution_count": 3,
   "id": "3d2ef76f",
   "metadata": {},
   "outputs": [],
   "source": [
    "from sklearn.ensemble import RandomForestRegressor"
   ]
  },
  {
   "cell_type": "code",
   "execution_count": 4,
   "id": "961dc429",
   "metadata": {},
   "outputs": [],
   "source": [
    "cpi_data_refined = pd.read_csv('CPI Refined Data.csv', parse_dates={'Date':['DATE']})\n",
    "cpi_data_refined.set_index('Date', inplace=True)"
   ]
  },
  {
   "cell_type": "code",
   "execution_count": 5,
   "id": "e10ca1af",
   "metadata": {},
   "outputs": [
    {
     "data": {
      "text/plain": [
       "Index(['CPIH ALL ITEMS', 'FOOD AND NON-ALCOHOLIC BEVERAGES',\n",
       "       'ALCOHOLIC BEVERAGES AND TOBACCO', 'CLOTHING AND FOOTWEAR',\n",
       "       'FURNITURE, HOUSEHOLD EQUIPMENT AND MAINTENANCE', 'HEALTH', 'TRANSPORT',\n",
       "       'ELECTRICITY, GAS AND OTHER FUELS', 'COMMUNICATION',\n",
       "       'RECREATION & CULTURE', 'EDUCATION', 'RESTAURANTS AND HOTELS',\n",
       "       'MISCELLANEOUS GOODS AND SERVICES'],\n",
       "      dtype='object')"
      ]
     },
     "execution_count": 5,
     "metadata": {},
     "output_type": "execute_result"
    }
   ],
   "source": [
    "cpi_data_refined.columns"
   ]
  },
  {
   "cell_type": "code",
   "execution_count": 6,
   "id": "afd632e3",
   "metadata": {},
   "outputs": [],
   "source": [
    "cpi_data_refined.drop('CLOTHING AND FOOTWEAR',axis=1,inplace=True)"
   ]
  },
  {
   "cell_type": "code",
   "execution_count": 7,
   "id": "331c814c",
   "metadata": {},
   "outputs": [
    {
     "data": {
      "text/html": [
       "<div>\n",
       "<style scoped>\n",
       "    .dataframe tbody tr th:only-of-type {\n",
       "        vertical-align: middle;\n",
       "    }\n",
       "\n",
       "    .dataframe tbody tr th {\n",
       "        vertical-align: top;\n",
       "    }\n",
       "\n",
       "    .dataframe thead th {\n",
       "        text-align: right;\n",
       "    }\n",
       "</style>\n",
       "<table border=\"1\" class=\"dataframe\">\n",
       "  <thead>\n",
       "    <tr style=\"text-align: right;\">\n",
       "      <th></th>\n",
       "      <th>CPIH ALL ITEMS</th>\n",
       "      <th>FOOD AND NON-ALCOHOLIC BEVERAGES</th>\n",
       "      <th>ALCOHOLIC BEVERAGES AND TOBACCO</th>\n",
       "      <th>FURNITURE, HOUSEHOLD EQUIPMENT AND MAINTENANCE</th>\n",
       "      <th>HEALTH</th>\n",
       "      <th>TRANSPORT</th>\n",
       "      <th>ELECTRICITY, GAS AND OTHER FUELS</th>\n",
       "      <th>COMMUNICATION</th>\n",
       "      <th>RECREATION &amp; CULTURE</th>\n",
       "      <th>EDUCATION</th>\n",
       "      <th>RESTAURANTS AND HOTELS</th>\n",
       "      <th>MISCELLANEOUS GOODS AND SERVICES</th>\n",
       "    </tr>\n",
       "    <tr>\n",
       "      <th>Date</th>\n",
       "      <th></th>\n",
       "      <th></th>\n",
       "      <th></th>\n",
       "      <th></th>\n",
       "      <th></th>\n",
       "      <th></th>\n",
       "      <th></th>\n",
       "      <th></th>\n",
       "      <th></th>\n",
       "      <th></th>\n",
       "      <th></th>\n",
       "      <th></th>\n",
       "    </tr>\n",
       "  </thead>\n",
       "  <tbody>\n",
       "    <tr>\n",
       "      <th>2022-08-01</th>\n",
       "      <td>121.772</td>\n",
       "      <td>118.296</td>\n",
       "      <td>126.385</td>\n",
       "      <td>120.606</td>\n",
       "      <td>117.851</td>\n",
       "      <td>137.814</td>\n",
       "      <td>187.615</td>\n",
       "      <td>119.281</td>\n",
       "      <td>118.672</td>\n",
       "      <td>125.437</td>\n",
       "      <td>128.360</td>\n",
       "      <td>111.179</td>\n",
       "    </tr>\n",
       "    <tr>\n",
       "      <th>2022-09-01</th>\n",
       "      <td>122.320</td>\n",
       "      <td>119.644</td>\n",
       "      <td>126.845</td>\n",
       "      <td>122.399</td>\n",
       "      <td>118.740</td>\n",
       "      <td>135.522</td>\n",
       "      <td>188.555</td>\n",
       "      <td>119.372</td>\n",
       "      <td>119.237</td>\n",
       "      <td>126.497</td>\n",
       "      <td>129.133</td>\n",
       "      <td>111.696</td>\n",
       "    </tr>\n",
       "    <tr>\n",
       "      <th>2022-10-01</th>\n",
       "      <td>124.311</td>\n",
       "      <td>122.025</td>\n",
       "      <td>126.863</td>\n",
       "      <td>123.133</td>\n",
       "      <td>119.222</td>\n",
       "      <td>135.561</td>\n",
       "      <td>234.406</td>\n",
       "      <td>120.249</td>\n",
       "      <td>119.661</td>\n",
       "      <td>129.400</td>\n",
       "      <td>130.385</td>\n",
       "      <td>112.288</td>\n",
       "    </tr>\n",
       "    <tr>\n",
       "      <th>2022-11-01</th>\n",
       "      <td>124.787</td>\n",
       "      <td>123.391</td>\n",
       "      <td>127.669</td>\n",
       "      <td>123.840</td>\n",
       "      <td>119.917</td>\n",
       "      <td>135.747</td>\n",
       "      <td>233.879</td>\n",
       "      <td>119.250</td>\n",
       "      <td>120.402</td>\n",
       "      <td>129.400</td>\n",
       "      <td>130.858</td>\n",
       "      <td>112.623</td>\n",
       "    </tr>\n",
       "    <tr>\n",
       "      <th>2022-12-01</th>\n",
       "      <td>125.284</td>\n",
       "      <td>125.409</td>\n",
       "      <td>126.250</td>\n",
       "      <td>125.323</td>\n",
       "      <td>120.611</td>\n",
       "      <td>136.464</td>\n",
       "      <td>233.263</td>\n",
       "      <td>118.031</td>\n",
       "      <td>120.145</td>\n",
       "      <td>129.400</td>\n",
       "      <td>132.069</td>\n",
       "      <td>112.963</td>\n",
       "    </tr>\n",
       "  </tbody>\n",
       "</table>\n",
       "</div>"
      ],
      "text/plain": [
       "            CPIH ALL ITEMS  FOOD AND NON-ALCOHOLIC BEVERAGES  \\\n",
       "Date                                                           \n",
       "2022-08-01         121.772                           118.296   \n",
       "2022-09-01         122.320                           119.644   \n",
       "2022-10-01         124.311                           122.025   \n",
       "2022-11-01         124.787                           123.391   \n",
       "2022-12-01         125.284                           125.409   \n",
       "\n",
       "            ALCOHOLIC BEVERAGES AND TOBACCO  \\\n",
       "Date                                          \n",
       "2022-08-01                          126.385   \n",
       "2022-09-01                          126.845   \n",
       "2022-10-01                          126.863   \n",
       "2022-11-01                          127.669   \n",
       "2022-12-01                          126.250   \n",
       "\n",
       "            FURNITURE, HOUSEHOLD EQUIPMENT AND MAINTENANCE   HEALTH  \\\n",
       "Date                                                                  \n",
       "2022-08-01                                         120.606  117.851   \n",
       "2022-09-01                                         122.399  118.740   \n",
       "2022-10-01                                         123.133  119.222   \n",
       "2022-11-01                                         123.840  119.917   \n",
       "2022-12-01                                         125.323  120.611   \n",
       "\n",
       "            TRANSPORT  ELECTRICITY, GAS AND OTHER FUELS  COMMUNICATION  \\\n",
       "Date                                                                     \n",
       "2022-08-01    137.814                           187.615        119.281   \n",
       "2022-09-01    135.522                           188.555        119.372   \n",
       "2022-10-01    135.561                           234.406        120.249   \n",
       "2022-11-01    135.747                           233.879        119.250   \n",
       "2022-12-01    136.464                           233.263        118.031   \n",
       "\n",
       "            RECREATION & CULTURE  EDUCATION  RESTAURANTS AND HOTELS  \\\n",
       "Date                                                                  \n",
       "2022-08-01               118.672    125.437                 128.360   \n",
       "2022-09-01               119.237    126.497                 129.133   \n",
       "2022-10-01               119.661    129.400                 130.385   \n",
       "2022-11-01               120.402    129.400                 130.858   \n",
       "2022-12-01               120.145    129.400                 132.069   \n",
       "\n",
       "            MISCELLANEOUS GOODS AND SERVICES  \n",
       "Date                                          \n",
       "2022-08-01                           111.179  \n",
       "2022-09-01                           111.696  \n",
       "2022-10-01                           112.288  \n",
       "2022-11-01                           112.623  \n",
       "2022-12-01                           112.963  "
      ]
     },
     "execution_count": 7,
     "metadata": {},
     "output_type": "execute_result"
    }
   ],
   "source": [
    "cpi_data_refined.tail()"
   ]
  },
  {
   "cell_type": "code",
   "execution_count": 8,
   "id": "240b9c5b",
   "metadata": {},
   "outputs": [
    {
     "data": {
      "text/html": [
       "<div>\n",
       "<style scoped>\n",
       "    .dataframe tbody tr th:only-of-type {\n",
       "        vertical-align: middle;\n",
       "    }\n",
       "\n",
       "    .dataframe tbody tr th {\n",
       "        vertical-align: top;\n",
       "    }\n",
       "\n",
       "    .dataframe thead th {\n",
       "        text-align: right;\n",
       "    }\n",
       "</style>\n",
       "<table border=\"1\" class=\"dataframe\">\n",
       "  <thead>\n",
       "    <tr style=\"text-align: right;\">\n",
       "      <th></th>\n",
       "      <th>CPIH ALL ITEMS</th>\n",
       "      <th>FOOD AND NON-ALCOHOLIC BEVERAGES</th>\n",
       "      <th>ALCOHOLIC BEVERAGES AND TOBACCO</th>\n",
       "      <th>FURNITURE, HOUSEHOLD EQUIPMENT AND MAINTENANCE</th>\n",
       "      <th>HEALTH</th>\n",
       "      <th>TRANSPORT</th>\n",
       "      <th>ELECTRICITY, GAS AND OTHER FUELS</th>\n",
       "      <th>COMMUNICATION</th>\n",
       "      <th>RECREATION &amp; CULTURE</th>\n",
       "      <th>EDUCATION</th>\n",
       "      <th>RESTAURANTS AND HOTELS</th>\n",
       "      <th>MISCELLANEOUS GOODS AND SERVICES</th>\n",
       "    </tr>\n",
       "    <tr>\n",
       "      <th>Date</th>\n",
       "      <th></th>\n",
       "      <th></th>\n",
       "      <th></th>\n",
       "      <th></th>\n",
       "      <th></th>\n",
       "      <th></th>\n",
       "      <th></th>\n",
       "      <th></th>\n",
       "      <th></th>\n",
       "      <th></th>\n",
       "      <th></th>\n",
       "      <th></th>\n",
       "    </tr>\n",
       "  </thead>\n",
       "  <tbody>\n",
       "    <tr>\n",
       "      <th>2019-08-01</th>\n",
       "      <td>108.301</td>\n",
       "      <td>103.757</td>\n",
       "      <td>114.620</td>\n",
       "      <td>104.982</td>\n",
       "      <td>110.485</td>\n",
       "      <td>114.377</td>\n",
       "      <td>115.456</td>\n",
       "      <td>110.211</td>\n",
       "      <td>107.334</td>\n",
       "      <td>114.362</td>\n",
       "      <td>111.940</td>\n",
       "      <td>104.097</td>\n",
       "    </tr>\n",
       "    <tr>\n",
       "      <th>2019-09-01</th>\n",
       "      <td>108.414</td>\n",
       "      <td>103.519</td>\n",
       "      <td>114.467</td>\n",
       "      <td>106.156</td>\n",
       "      <td>110.925</td>\n",
       "      <td>111.514</td>\n",
       "      <td>115.472</td>\n",
       "      <td>110.976</td>\n",
       "      <td>107.865</td>\n",
       "      <td>115.575</td>\n",
       "      <td>112.793</td>\n",
       "      <td>104.377</td>\n",
       "    </tr>\n",
       "    <tr>\n",
       "      <th>2019-10-01</th>\n",
       "      <td>108.285</td>\n",
       "      <td>102.895</td>\n",
       "      <td>114.870</td>\n",
       "      <td>104.961</td>\n",
       "      <td>110.564</td>\n",
       "      <td>111.275</td>\n",
       "      <td>110.449</td>\n",
       "      <td>111.038</td>\n",
       "      <td>108.294</td>\n",
       "      <td>117.506</td>\n",
       "      <td>112.516</td>\n",
       "      <td>104.377</td>\n",
       "    </tr>\n",
       "    <tr>\n",
       "      <th>2019-11-01</th>\n",
       "      <td>108.516</td>\n",
       "      <td>103.752</td>\n",
       "      <td>114.650</td>\n",
       "      <td>105.471</td>\n",
       "      <td>110.862</td>\n",
       "      <td>110.998</td>\n",
       "      <td>110.417</td>\n",
       "      <td>111.011</td>\n",
       "      <td>108.788</td>\n",
       "      <td>117.506</td>\n",
       "      <td>112.335</td>\n",
       "      <td>104.696</td>\n",
       "    </tr>\n",
       "    <tr>\n",
       "      <th>2019-12-01</th>\n",
       "      <td>108.520</td>\n",
       "      <td>104.343</td>\n",
       "      <td>113.013</td>\n",
       "      <td>106.907</td>\n",
       "      <td>110.928</td>\n",
       "      <td>111.683</td>\n",
       "      <td>110.442</td>\n",
       "      <td>111.955</td>\n",
       "      <td>108.491</td>\n",
       "      <td>117.506</td>\n",
       "      <td>111.764</td>\n",
       "      <td>104.617</td>\n",
       "    </tr>\n",
       "  </tbody>\n",
       "</table>\n",
       "</div>"
      ],
      "text/plain": [
       "            CPIH ALL ITEMS  FOOD AND NON-ALCOHOLIC BEVERAGES  \\\n",
       "Date                                                           \n",
       "2019-08-01         108.301                           103.757   \n",
       "2019-09-01         108.414                           103.519   \n",
       "2019-10-01         108.285                           102.895   \n",
       "2019-11-01         108.516                           103.752   \n",
       "2019-12-01         108.520                           104.343   \n",
       "\n",
       "            ALCOHOLIC BEVERAGES AND TOBACCO  \\\n",
       "Date                                          \n",
       "2019-08-01                          114.620   \n",
       "2019-09-01                          114.467   \n",
       "2019-10-01                          114.870   \n",
       "2019-11-01                          114.650   \n",
       "2019-12-01                          113.013   \n",
       "\n",
       "            FURNITURE, HOUSEHOLD EQUIPMENT AND MAINTENANCE   HEALTH  \\\n",
       "Date                                                                  \n",
       "2019-08-01                                         104.982  110.485   \n",
       "2019-09-01                                         106.156  110.925   \n",
       "2019-10-01                                         104.961  110.564   \n",
       "2019-11-01                                         105.471  110.862   \n",
       "2019-12-01                                         106.907  110.928   \n",
       "\n",
       "            TRANSPORT  ELECTRICITY, GAS AND OTHER FUELS  COMMUNICATION  \\\n",
       "Date                                                                     \n",
       "2019-08-01    114.377                           115.456        110.211   \n",
       "2019-09-01    111.514                           115.472        110.976   \n",
       "2019-10-01    111.275                           110.449        111.038   \n",
       "2019-11-01    110.998                           110.417        111.011   \n",
       "2019-12-01    111.683                           110.442        111.955   \n",
       "\n",
       "            RECREATION & CULTURE  EDUCATION  RESTAURANTS AND HOTELS  \\\n",
       "Date                                                                  \n",
       "2019-08-01               107.334    114.362                 111.940   \n",
       "2019-09-01               107.865    115.575                 112.793   \n",
       "2019-10-01               108.294    117.506                 112.516   \n",
       "2019-11-01               108.788    117.506                 112.335   \n",
       "2019-12-01               108.491    117.506                 111.764   \n",
       "\n",
       "            MISCELLANEOUS GOODS AND SERVICES  \n",
       "Date                                          \n",
       "2019-08-01                           104.097  \n",
       "2019-09-01                           104.377  \n",
       "2019-10-01                           104.377  \n",
       "2019-11-01                           104.696  \n",
       "2019-12-01                           104.617  "
      ]
     },
     "execution_count": 8,
     "metadata": {},
     "output_type": "execute_result"
    }
   ],
   "source": [
    "cpi_data_pre_covid = cpi_data_refined[:384]\n",
    "cpi_data_pre_covid.tail()"
   ]
  },
  {
   "cell_type": "code",
   "execution_count": 9,
   "id": "929e3304",
   "metadata": {},
   "outputs": [
    {
     "name": "stdout",
     "output_type": "stream",
     "text": [
      "12\n",
      "384\n"
     ]
    }
   ],
   "source": [
    "# find len of test data \n",
    "cpi_test_data = cpi_data_pre_covid.loc['2019-01-01':'2019-12-01']\n",
    "print(len(cpi_test_data))\n",
    "print(len(cpi_data_pre_covid))"
   ]
  },
  {
   "cell_type": "code",
   "execution_count": 10,
   "id": "3f15d848",
   "metadata": {},
   "outputs": [],
   "source": [
    "X = cpi_data_pre_covid.drop('CPIH ALL ITEMS', axis=1)\n",
    "y = cpi_data_pre_covid['CPIH ALL ITEMS']"
   ]
  },
  {
   "cell_type": "code",
   "execution_count": 11,
   "id": "9f33584f",
   "metadata": {},
   "outputs": [
    {
     "data": {
      "text/plain": [
       "((372, 11), (12, 11))"
      ]
     },
     "execution_count": 11,
     "metadata": {},
     "output_type": "execute_result"
    }
   ],
   "source": [
    "# now lets split the data into train and test\n",
    "from sklearn.model_selection import train_test_split\n",
    "\n",
    "# split data\n",
    "X_train, X_test, y_train, y_test = train_test_split(X, y, train_size=0.97, random_state=42, shuffle=False)\n",
    "X_train.shape, X_test.shape"
   ]
  },
  {
   "cell_type": "code",
   "execution_count": 12,
   "id": "3998d144",
   "metadata": {
    "scrolled": true
   },
   "outputs": [
    {
     "data": {
      "text/html": [
       "<div>\n",
       "<style scoped>\n",
       "    .dataframe tbody tr th:only-of-type {\n",
       "        vertical-align: middle;\n",
       "    }\n",
       "\n",
       "    .dataframe tbody tr th {\n",
       "        vertical-align: top;\n",
       "    }\n",
       "\n",
       "    .dataframe thead th {\n",
       "        text-align: right;\n",
       "    }\n",
       "</style>\n",
       "<table border=\"1\" class=\"dataframe\">\n",
       "  <thead>\n",
       "    <tr style=\"text-align: right;\">\n",
       "      <th></th>\n",
       "      <th>FOOD AND NON-ALCOHOLIC BEVERAGES</th>\n",
       "      <th>ALCOHOLIC BEVERAGES AND TOBACCO</th>\n",
       "      <th>FURNITURE, HOUSEHOLD EQUIPMENT AND MAINTENANCE</th>\n",
       "      <th>HEALTH</th>\n",
       "      <th>TRANSPORT</th>\n",
       "      <th>ELECTRICITY, GAS AND OTHER FUELS</th>\n",
       "      <th>COMMUNICATION</th>\n",
       "      <th>RECREATION &amp; CULTURE</th>\n",
       "      <th>EDUCATION</th>\n",
       "      <th>RESTAURANTS AND HOTELS</th>\n",
       "      <th>MISCELLANEOUS GOODS AND SERVICES</th>\n",
       "    </tr>\n",
       "    <tr>\n",
       "      <th>Date</th>\n",
       "      <th></th>\n",
       "      <th></th>\n",
       "      <th></th>\n",
       "      <th></th>\n",
       "      <th></th>\n",
       "      <th></th>\n",
       "      <th></th>\n",
       "      <th></th>\n",
       "      <th></th>\n",
       "      <th></th>\n",
       "      <th></th>\n",
       "    </tr>\n",
       "  </thead>\n",
       "  <tbody>\n",
       "    <tr>\n",
       "      <th>2019-08-01</th>\n",
       "      <td>103.757</td>\n",
       "      <td>114.620</td>\n",
       "      <td>104.982</td>\n",
       "      <td>110.485</td>\n",
       "      <td>114.377</td>\n",
       "      <td>115.456</td>\n",
       "      <td>110.211</td>\n",
       "      <td>107.334</td>\n",
       "      <td>114.362</td>\n",
       "      <td>111.940</td>\n",
       "      <td>104.097</td>\n",
       "    </tr>\n",
       "    <tr>\n",
       "      <th>2019-09-01</th>\n",
       "      <td>103.519</td>\n",
       "      <td>114.467</td>\n",
       "      <td>106.156</td>\n",
       "      <td>110.925</td>\n",
       "      <td>111.514</td>\n",
       "      <td>115.472</td>\n",
       "      <td>110.976</td>\n",
       "      <td>107.865</td>\n",
       "      <td>115.575</td>\n",
       "      <td>112.793</td>\n",
       "      <td>104.377</td>\n",
       "    </tr>\n",
       "    <tr>\n",
       "      <th>2019-10-01</th>\n",
       "      <td>102.895</td>\n",
       "      <td>114.870</td>\n",
       "      <td>104.961</td>\n",
       "      <td>110.564</td>\n",
       "      <td>111.275</td>\n",
       "      <td>110.449</td>\n",
       "      <td>111.038</td>\n",
       "      <td>108.294</td>\n",
       "      <td>117.506</td>\n",
       "      <td>112.516</td>\n",
       "      <td>104.377</td>\n",
       "    </tr>\n",
       "    <tr>\n",
       "      <th>2019-11-01</th>\n",
       "      <td>103.752</td>\n",
       "      <td>114.650</td>\n",
       "      <td>105.471</td>\n",
       "      <td>110.862</td>\n",
       "      <td>110.998</td>\n",
       "      <td>110.417</td>\n",
       "      <td>111.011</td>\n",
       "      <td>108.788</td>\n",
       "      <td>117.506</td>\n",
       "      <td>112.335</td>\n",
       "      <td>104.696</td>\n",
       "    </tr>\n",
       "    <tr>\n",
       "      <th>2019-12-01</th>\n",
       "      <td>104.343</td>\n",
       "      <td>113.013</td>\n",
       "      <td>106.907</td>\n",
       "      <td>110.928</td>\n",
       "      <td>111.683</td>\n",
       "      <td>110.442</td>\n",
       "      <td>111.955</td>\n",
       "      <td>108.491</td>\n",
       "      <td>117.506</td>\n",
       "      <td>111.764</td>\n",
       "      <td>104.617</td>\n",
       "    </tr>\n",
       "  </tbody>\n",
       "</table>\n",
       "</div>"
      ],
      "text/plain": [
       "            FOOD AND NON-ALCOHOLIC BEVERAGES  ALCOHOLIC BEVERAGES AND TOBACCO  \\\n",
       "Date                                                                            \n",
       "2019-08-01                           103.757                          114.620   \n",
       "2019-09-01                           103.519                          114.467   \n",
       "2019-10-01                           102.895                          114.870   \n",
       "2019-11-01                           103.752                          114.650   \n",
       "2019-12-01                           104.343                          113.013   \n",
       "\n",
       "            FURNITURE, HOUSEHOLD EQUIPMENT AND MAINTENANCE   HEALTH  \\\n",
       "Date                                                                  \n",
       "2019-08-01                                         104.982  110.485   \n",
       "2019-09-01                                         106.156  110.925   \n",
       "2019-10-01                                         104.961  110.564   \n",
       "2019-11-01                                         105.471  110.862   \n",
       "2019-12-01                                         106.907  110.928   \n",
       "\n",
       "            TRANSPORT  ELECTRICITY, GAS AND OTHER FUELS  COMMUNICATION  \\\n",
       "Date                                                                     \n",
       "2019-08-01    114.377                           115.456        110.211   \n",
       "2019-09-01    111.514                           115.472        110.976   \n",
       "2019-10-01    111.275                           110.449        111.038   \n",
       "2019-11-01    110.998                           110.417        111.011   \n",
       "2019-12-01    111.683                           110.442        111.955   \n",
       "\n",
       "            RECREATION & CULTURE  EDUCATION  RESTAURANTS AND HOTELS  \\\n",
       "Date                                                                  \n",
       "2019-08-01               107.334    114.362                 111.940   \n",
       "2019-09-01               107.865    115.575                 112.793   \n",
       "2019-10-01               108.294    117.506                 112.516   \n",
       "2019-11-01               108.788    117.506                 112.335   \n",
       "2019-12-01               108.491    117.506                 111.764   \n",
       "\n",
       "            MISCELLANEOUS GOODS AND SERVICES  \n",
       "Date                                          \n",
       "2019-08-01                           104.097  \n",
       "2019-09-01                           104.377  \n",
       "2019-10-01                           104.377  \n",
       "2019-11-01                           104.696  \n",
       "2019-12-01                           104.617  "
      ]
     },
     "execution_count": 12,
     "metadata": {},
     "output_type": "execute_result"
    }
   ],
   "source": [
    "X_test.tail()"
   ]
  },
  {
   "cell_type": "code",
   "execution_count": 13,
   "id": "d343c808",
   "metadata": {},
   "outputs": [
    {
     "data": {
      "text/plain": [
       "372"
      ]
     },
     "execution_count": 13,
     "metadata": {},
     "output_type": "execute_result"
    }
   ],
   "source": [
    "X_train.shape[0]"
   ]
  },
  {
   "cell_type": "code",
   "execution_count": 14,
   "id": "4440982a",
   "metadata": {
    "scrolled": true
   },
   "outputs": [
    {
     "data": {
      "text/html": [
       "<style>#sk-container-id-1 {color: black;background-color: white;}#sk-container-id-1 pre{padding: 0;}#sk-container-id-1 div.sk-toggleable {background-color: white;}#sk-container-id-1 label.sk-toggleable__label {cursor: pointer;display: block;width: 100%;margin-bottom: 0;padding: 0.3em;box-sizing: border-box;text-align: center;}#sk-container-id-1 label.sk-toggleable__label-arrow:before {content: \"▸\";float: left;margin-right: 0.25em;color: #696969;}#sk-container-id-1 label.sk-toggleable__label-arrow:hover:before {color: black;}#sk-container-id-1 div.sk-estimator:hover label.sk-toggleable__label-arrow:before {color: black;}#sk-container-id-1 div.sk-toggleable__content {max-height: 0;max-width: 0;overflow: hidden;text-align: left;background-color: #f0f8ff;}#sk-container-id-1 div.sk-toggleable__content pre {margin: 0.2em;color: black;border-radius: 0.25em;background-color: #f0f8ff;}#sk-container-id-1 input.sk-toggleable__control:checked~div.sk-toggleable__content {max-height: 200px;max-width: 100%;overflow: auto;}#sk-container-id-1 input.sk-toggleable__control:checked~label.sk-toggleable__label-arrow:before {content: \"▾\";}#sk-container-id-1 div.sk-estimator input.sk-toggleable__control:checked~label.sk-toggleable__label {background-color: #d4ebff;}#sk-container-id-1 div.sk-label input.sk-toggleable__control:checked~label.sk-toggleable__label {background-color: #d4ebff;}#sk-container-id-1 input.sk-hidden--visually {border: 0;clip: rect(1px 1px 1px 1px);clip: rect(1px, 1px, 1px, 1px);height: 1px;margin: -1px;overflow: hidden;padding: 0;position: absolute;width: 1px;}#sk-container-id-1 div.sk-estimator {font-family: monospace;background-color: #f0f8ff;border: 1px dotted black;border-radius: 0.25em;box-sizing: border-box;margin-bottom: 0.5em;}#sk-container-id-1 div.sk-estimator:hover {background-color: #d4ebff;}#sk-container-id-1 div.sk-parallel-item::after {content: \"\";width: 100%;border-bottom: 1px solid gray;flex-grow: 1;}#sk-container-id-1 div.sk-label:hover label.sk-toggleable__label {background-color: #d4ebff;}#sk-container-id-1 div.sk-serial::before {content: \"\";position: absolute;border-left: 1px solid gray;box-sizing: border-box;top: 0;bottom: 0;left: 50%;z-index: 0;}#sk-container-id-1 div.sk-serial {display: flex;flex-direction: column;align-items: center;background-color: white;padding-right: 0.2em;padding-left: 0.2em;position: relative;}#sk-container-id-1 div.sk-item {position: relative;z-index: 1;}#sk-container-id-1 div.sk-parallel {display: flex;align-items: stretch;justify-content: center;background-color: white;position: relative;}#sk-container-id-1 div.sk-item::before, #sk-container-id-1 div.sk-parallel-item::before {content: \"\";position: absolute;border-left: 1px solid gray;box-sizing: border-box;top: 0;bottom: 0;left: 50%;z-index: -1;}#sk-container-id-1 div.sk-parallel-item {display: flex;flex-direction: column;z-index: 1;position: relative;background-color: white;}#sk-container-id-1 div.sk-parallel-item:first-child::after {align-self: flex-end;width: 50%;}#sk-container-id-1 div.sk-parallel-item:last-child::after {align-self: flex-start;width: 50%;}#sk-container-id-1 div.sk-parallel-item:only-child::after {width: 0;}#sk-container-id-1 div.sk-dashed-wrapped {border: 1px dashed gray;margin: 0 0.4em 0.5em 0.4em;box-sizing: border-box;padding-bottom: 0.4em;background-color: white;}#sk-container-id-1 div.sk-label label {font-family: monospace;font-weight: bold;display: inline-block;line-height: 1.2em;}#sk-container-id-1 div.sk-label-container {text-align: center;}#sk-container-id-1 div.sk-container {/* jupyter's `normalize.less` sets `[hidden] { display: none; }` but bootstrap.min.css set `[hidden] { display: none !important; }` so we also need the `!important` here to be able to override the default hidden behavior on the sphinx rendered scikit-learn.org. See: https://github.com/scikit-learn/scikit-learn/issues/21755 */display: inline-block !important;position: relative;}#sk-container-id-1 div.sk-text-repr-fallback {display: none;}</style><div id=\"sk-container-id-1\" class=\"sk-top-container\"><div class=\"sk-text-repr-fallback\"><pre>RandomForestRegressor(random_state=42)</pre><b>In a Jupyter environment, please rerun this cell to show the HTML representation or trust the notebook. <br />On GitHub, the HTML representation is unable to render, please try loading this page with nbviewer.org.</b></div><div class=\"sk-container\" hidden><div class=\"sk-item\"><div class=\"sk-estimator sk-toggleable\"><input class=\"sk-toggleable__control sk-hidden--visually\" id=\"sk-estimator-id-1\" type=\"checkbox\" checked><label for=\"sk-estimator-id-1\" class=\"sk-toggleable__label sk-toggleable__label-arrow\">RandomForestRegressor</label><div class=\"sk-toggleable__content\"><pre>RandomForestRegressor(random_state=42)</pre></div></div></div></div></div>"
      ],
      "text/plain": [
       "RandomForestRegressor(random_state=42)"
      ]
     },
     "execution_count": 14,
     "metadata": {},
     "output_type": "execute_result"
    }
   ],
   "source": [
    "\n",
    "rf = RandomForestRegressor(random_state = 42)\n",
    "# Train the model on training data\n",
    "rf.fit(X_train, y_train)"
   ]
  },
  {
   "cell_type": "code",
   "execution_count": 15,
   "id": "0a877911",
   "metadata": {},
   "outputs": [
    {
     "name": "stdout",
     "output_type": "stream",
     "text": [
      "Parameters currently in use:\n",
      "\n",
      "{'bootstrap': True,\n",
      " 'ccp_alpha': 0.0,\n",
      " 'criterion': 'squared_error',\n",
      " 'max_depth': None,\n",
      " 'max_features': 1.0,\n",
      " 'max_leaf_nodes': None,\n",
      " 'max_samples': None,\n",
      " 'min_impurity_decrease': 0.0,\n",
      " 'min_samples_leaf': 1,\n",
      " 'min_samples_split': 2,\n",
      " 'min_weight_fraction_leaf': 0.0,\n",
      " 'n_estimators': 100,\n",
      " 'n_jobs': None,\n",
      " 'oob_score': False,\n",
      " 'random_state': 42,\n",
      " 'verbose': 0,\n",
      " 'warm_start': False}\n"
     ]
    }
   ],
   "source": [
    "# Look at parameters used by our current forest\n",
    "print('Parameters currently in use:\\n')\n",
    "pprint(rf.get_params())"
   ]
  },
  {
   "cell_type": "code",
   "execution_count": 16,
   "id": "995a24d1",
   "metadata": {},
   "outputs": [
    {
     "name": "stdout",
     "output_type": "stream",
     "text": [
      "{'bootstrap': [True, False],\n",
      " 'max_depth': [10, 20, 30, 40, 50, 60, 70, 80, 90, 100, 110, None],\n",
      " 'max_features': ['auto', 'sqrt'],\n",
      " 'min_samples_leaf': [1, 2, 4],\n",
      " 'min_samples_split': [2, 5, 10],\n",
      " 'n_estimators': [200, 400, 600, 800, 1000, 1200, 1400, 1600, 1800, 2000]}\n"
     ]
    }
   ],
   "source": [
    "# randomized search hyperparameter tuning\n",
    "from sklearn.model_selection import RandomizedSearchCV\n",
    "# Number of trees in random forest\n",
    "n_estimators = [int(x) for x in np.linspace(start = 200, stop = 2000, num = 10)]\n",
    "# Number of features to consider at every split\n",
    "max_features = ['auto', 'sqrt']\n",
    "# Maximum number of levels in tree\n",
    "max_depth = [int(x) for x in np.linspace(10, 110, num = 11)]\n",
    "max_depth.append(None)\n",
    "# Minimum number of samples required to split a node\n",
    "min_samples_split = [2, 5, 10]\n",
    "# Minimum number of samples required at each leaf node\n",
    "min_samples_leaf = [1, 2, 4]\n",
    "# Method of selecting samples for training each tree\n",
    "bootstrap = [True, False]\n",
    "# Create the random grid\n",
    "random_grid = {'n_estimators': n_estimators,\n",
    "               'max_features': max_features,\n",
    "               'max_depth': max_depth,\n",
    "               'min_samples_split': min_samples_split,\n",
    "               'min_samples_leaf': min_samples_leaf,\n",
    "               'bootstrap': bootstrap}\n",
    "pprint(random_grid)"
   ]
  },
  {
   "cell_type": "code",
   "execution_count": 17,
   "id": "775420d4",
   "metadata": {},
   "outputs": [],
   "source": [
    "# Use the random grid to search for best hyperparameters\n",
    "# First create the base model to tune\n",
    "rf = RandomForestRegressor()\n",
    "# Random search of parameters, using 3 fold cross validation, \n",
    "# search across 100 different combinations, and use all available cores\n",
    "rf_random = RandomizedSearchCV(estimator = rf, param_distributions = random_grid, n_iter = 100, cv = 3, verbose=2, random_state=42, n_jobs = -1)"
   ]
  },
  {
   "cell_type": "code",
   "execution_count": 18,
   "id": "cba363fc",
   "metadata": {},
   "outputs": [
    {
     "name": "stdout",
     "output_type": "stream",
     "text": [
      "Fitting 3 folds for each of 100 candidates, totalling 300 fits\n"
     ]
    },
    {
     "name": "stderr",
     "output_type": "stream",
     "text": [
      "C:\\Users\\baile\\.conda\\envs\\InflationProject\\lib\\site-packages\\sklearn\\ensemble\\_forest.py:413: FutureWarning: `max_features='auto'` has been deprecated in 1.1 and will be removed in 1.3. To keep the past behaviour, explicitly set `max_features=1.0` or remove this parameter as it is also the default value for RandomForestRegressors and ExtraTreesRegressors.\n",
      "  warn(\n"
     ]
    },
    {
     "data": {
      "text/html": [
       "<style>#sk-container-id-2 {color: black;background-color: white;}#sk-container-id-2 pre{padding: 0;}#sk-container-id-2 div.sk-toggleable {background-color: white;}#sk-container-id-2 label.sk-toggleable__label {cursor: pointer;display: block;width: 100%;margin-bottom: 0;padding: 0.3em;box-sizing: border-box;text-align: center;}#sk-container-id-2 label.sk-toggleable__label-arrow:before {content: \"▸\";float: left;margin-right: 0.25em;color: #696969;}#sk-container-id-2 label.sk-toggleable__label-arrow:hover:before {color: black;}#sk-container-id-2 div.sk-estimator:hover label.sk-toggleable__label-arrow:before {color: black;}#sk-container-id-2 div.sk-toggleable__content {max-height: 0;max-width: 0;overflow: hidden;text-align: left;background-color: #f0f8ff;}#sk-container-id-2 div.sk-toggleable__content pre {margin: 0.2em;color: black;border-radius: 0.25em;background-color: #f0f8ff;}#sk-container-id-2 input.sk-toggleable__control:checked~div.sk-toggleable__content {max-height: 200px;max-width: 100%;overflow: auto;}#sk-container-id-2 input.sk-toggleable__control:checked~label.sk-toggleable__label-arrow:before {content: \"▾\";}#sk-container-id-2 div.sk-estimator input.sk-toggleable__control:checked~label.sk-toggleable__label {background-color: #d4ebff;}#sk-container-id-2 div.sk-label input.sk-toggleable__control:checked~label.sk-toggleable__label {background-color: #d4ebff;}#sk-container-id-2 input.sk-hidden--visually {border: 0;clip: rect(1px 1px 1px 1px);clip: rect(1px, 1px, 1px, 1px);height: 1px;margin: -1px;overflow: hidden;padding: 0;position: absolute;width: 1px;}#sk-container-id-2 div.sk-estimator {font-family: monospace;background-color: #f0f8ff;border: 1px dotted black;border-radius: 0.25em;box-sizing: border-box;margin-bottom: 0.5em;}#sk-container-id-2 div.sk-estimator:hover {background-color: #d4ebff;}#sk-container-id-2 div.sk-parallel-item::after {content: \"\";width: 100%;border-bottom: 1px solid gray;flex-grow: 1;}#sk-container-id-2 div.sk-label:hover label.sk-toggleable__label {background-color: #d4ebff;}#sk-container-id-2 div.sk-serial::before {content: \"\";position: absolute;border-left: 1px solid gray;box-sizing: border-box;top: 0;bottom: 0;left: 50%;z-index: 0;}#sk-container-id-2 div.sk-serial {display: flex;flex-direction: column;align-items: center;background-color: white;padding-right: 0.2em;padding-left: 0.2em;position: relative;}#sk-container-id-2 div.sk-item {position: relative;z-index: 1;}#sk-container-id-2 div.sk-parallel {display: flex;align-items: stretch;justify-content: center;background-color: white;position: relative;}#sk-container-id-2 div.sk-item::before, #sk-container-id-2 div.sk-parallel-item::before {content: \"\";position: absolute;border-left: 1px solid gray;box-sizing: border-box;top: 0;bottom: 0;left: 50%;z-index: -1;}#sk-container-id-2 div.sk-parallel-item {display: flex;flex-direction: column;z-index: 1;position: relative;background-color: white;}#sk-container-id-2 div.sk-parallel-item:first-child::after {align-self: flex-end;width: 50%;}#sk-container-id-2 div.sk-parallel-item:last-child::after {align-self: flex-start;width: 50%;}#sk-container-id-2 div.sk-parallel-item:only-child::after {width: 0;}#sk-container-id-2 div.sk-dashed-wrapped {border: 1px dashed gray;margin: 0 0.4em 0.5em 0.4em;box-sizing: border-box;padding-bottom: 0.4em;background-color: white;}#sk-container-id-2 div.sk-label label {font-family: monospace;font-weight: bold;display: inline-block;line-height: 1.2em;}#sk-container-id-2 div.sk-label-container {text-align: center;}#sk-container-id-2 div.sk-container {/* jupyter's `normalize.less` sets `[hidden] { display: none; }` but bootstrap.min.css set `[hidden] { display: none !important; }` so we also need the `!important` here to be able to override the default hidden behavior on the sphinx rendered scikit-learn.org. See: https://github.com/scikit-learn/scikit-learn/issues/21755 */display: inline-block !important;position: relative;}#sk-container-id-2 div.sk-text-repr-fallback {display: none;}</style><div id=\"sk-container-id-2\" class=\"sk-top-container\"><div class=\"sk-text-repr-fallback\"><pre>RandomizedSearchCV(cv=3, estimator=RandomForestRegressor(), n_iter=100,\n",
       "                   n_jobs=-1,\n",
       "                   param_distributions={&#x27;bootstrap&#x27;: [True, False],\n",
       "                                        &#x27;max_depth&#x27;: [10, 20, 30, 40, 50, 60,\n",
       "                                                      70, 80, 90, 100, 110,\n",
       "                                                      None],\n",
       "                                        &#x27;max_features&#x27;: [&#x27;auto&#x27;, &#x27;sqrt&#x27;],\n",
       "                                        &#x27;min_samples_leaf&#x27;: [1, 2, 4],\n",
       "                                        &#x27;min_samples_split&#x27;: [2, 5, 10],\n",
       "                                        &#x27;n_estimators&#x27;: [200, 400, 600, 800,\n",
       "                                                         1000, 1200, 1400, 1600,\n",
       "                                                         1800, 2000]},\n",
       "                   random_state=42, verbose=2)</pre><b>In a Jupyter environment, please rerun this cell to show the HTML representation or trust the notebook. <br />On GitHub, the HTML representation is unable to render, please try loading this page with nbviewer.org.</b></div><div class=\"sk-container\" hidden><div class=\"sk-item sk-dashed-wrapped\"><div class=\"sk-label-container\"><div class=\"sk-label sk-toggleable\"><input class=\"sk-toggleable__control sk-hidden--visually\" id=\"sk-estimator-id-2\" type=\"checkbox\" ><label for=\"sk-estimator-id-2\" class=\"sk-toggleable__label sk-toggleable__label-arrow\">RandomizedSearchCV</label><div class=\"sk-toggleable__content\"><pre>RandomizedSearchCV(cv=3, estimator=RandomForestRegressor(), n_iter=100,\n",
       "                   n_jobs=-1,\n",
       "                   param_distributions={&#x27;bootstrap&#x27;: [True, False],\n",
       "                                        &#x27;max_depth&#x27;: [10, 20, 30, 40, 50, 60,\n",
       "                                                      70, 80, 90, 100, 110,\n",
       "                                                      None],\n",
       "                                        &#x27;max_features&#x27;: [&#x27;auto&#x27;, &#x27;sqrt&#x27;],\n",
       "                                        &#x27;min_samples_leaf&#x27;: [1, 2, 4],\n",
       "                                        &#x27;min_samples_split&#x27;: [2, 5, 10],\n",
       "                                        &#x27;n_estimators&#x27;: [200, 400, 600, 800,\n",
       "                                                         1000, 1200, 1400, 1600,\n",
       "                                                         1800, 2000]},\n",
       "                   random_state=42, verbose=2)</pre></div></div></div><div class=\"sk-parallel\"><div class=\"sk-parallel-item\"><div class=\"sk-item\"><div class=\"sk-label-container\"><div class=\"sk-label sk-toggleable\"><input class=\"sk-toggleable__control sk-hidden--visually\" id=\"sk-estimator-id-3\" type=\"checkbox\" ><label for=\"sk-estimator-id-3\" class=\"sk-toggleable__label sk-toggleable__label-arrow\">estimator: RandomForestRegressor</label><div class=\"sk-toggleable__content\"><pre>RandomForestRegressor()</pre></div></div></div><div class=\"sk-serial\"><div class=\"sk-item\"><div class=\"sk-estimator sk-toggleable\"><input class=\"sk-toggleable__control sk-hidden--visually\" id=\"sk-estimator-id-4\" type=\"checkbox\" ><label for=\"sk-estimator-id-4\" class=\"sk-toggleable__label sk-toggleable__label-arrow\">RandomForestRegressor</label><div class=\"sk-toggleable__content\"><pre>RandomForestRegressor()</pre></div></div></div></div></div></div></div></div></div></div>"
      ],
      "text/plain": [
       "RandomizedSearchCV(cv=3, estimator=RandomForestRegressor(), n_iter=100,\n",
       "                   n_jobs=-1,\n",
       "                   param_distributions={'bootstrap': [True, False],\n",
       "                                        'max_depth': [10, 20, 30, 40, 50, 60,\n",
       "                                                      70, 80, 90, 100, 110,\n",
       "                                                      None],\n",
       "                                        'max_features': ['auto', 'sqrt'],\n",
       "                                        'min_samples_leaf': [1, 2, 4],\n",
       "                                        'min_samples_split': [2, 5, 10],\n",
       "                                        'n_estimators': [200, 400, 600, 800,\n",
       "                                                         1000, 1200, 1400, 1600,\n",
       "                                                         1800, 2000]},\n",
       "                   random_state=42, verbose=2)"
      ]
     },
     "execution_count": 18,
     "metadata": {},
     "output_type": "execute_result"
    }
   ],
   "source": [
    "# Fit the random search model\n",
    "rf_random.fit(X_train, y_train)"
   ]
  },
  {
   "cell_type": "code",
   "execution_count": 19,
   "id": "697c703e",
   "metadata": {},
   "outputs": [
    {
     "data": {
      "text/plain": [
       "{'n_estimators': 1000,\n",
       " 'min_samples_split': 2,\n",
       " 'min_samples_leaf': 1,\n",
       " 'max_features': 'auto',\n",
       " 'max_depth': 50,\n",
       " 'bootstrap': False}"
      ]
     },
     "execution_count": 19,
     "metadata": {},
     "output_type": "execute_result"
    }
   ],
   "source": [
    "rf_random.best_params_"
   ]
  },
  {
   "cell_type": "code",
   "execution_count": 20,
   "id": "9a4fc52f",
   "metadata": {
    "scrolled": true
   },
   "outputs": [],
   "source": [
    "# X_test.tail()"
   ]
  },
  {
   "cell_type": "code",
   "execution_count": 21,
   "id": "ec2882e0",
   "metadata": {},
   "outputs": [],
   "source": [
    "# rmse, mae, mse\n",
    "from sklearn.metrics import mean_squared_error,r2_score, mean_absolute_error\n",
    "\n",
    "\n",
    "def evaluate(model, X_test, y_test):\n",
    "    predictions = model.predict(X_test)\n",
    "    mse = mean_squared_error(y_test, predictions)\n",
    "    rmse = np.sqrt(mse)\n",
    "    mae = mean_absolute_error(y_test,predictions)\n",
    "    r2 = r2_score(y_test, predictions)\n",
    "    \n",
    "    print('Model Performance')\n",
    "    print('MSE: ', mse)\n",
    "    print('RMSE: ', rmse)\n",
    "    print('MAE: ', mae)\n",
    "    print('R2:', r2)\n",
    "\n",
    "#     errors = abs(predictions - y_test)\n",
    "#     mape = 100 * np.mean(errors / y_test)\n",
    "#     accuracy = 100 - mape\n",
    "#     print('Model Performance')\n",
    "#     print('Average Error: {:0.4f} degrees.'.format(np.mean(errors)))\n",
    "#     print('Accuracy = {:0.2f}%.'.format(accuracy))\n",
    "    \n",
    "    return predictions"
   ]
  },
  {
   "cell_type": "code",
   "execution_count": 22,
   "id": "5d37186c",
   "metadata": {},
   "outputs": [
    {
     "name": "stdout",
     "output_type": "stream",
     "text": [
      "Model Performance\n",
      "MSE:  1.3690440924999738\n",
      "RMSE:  1.1700615763710789\n",
      "MAE:  1.0513416666666586\n",
      "R2: -1.9354613052842917\n"
     ]
    }
   ],
   "source": [
    "base_model = RandomForestRegressor(n_estimators = 10, random_state = 42)\n",
    "base_model.fit(X_train, y_train)\n",
    "base_accuracy = evaluate(base_model, X_test, y_test)\n",
    "\n",
    "base_predictions = base_accuracy\n",
    "\n",
    "#create df of base predictions (pred using standard model)\n",
    "base_predicted_df = pd.DataFrame(base_predictions, index=pd.date_range('2018-12-01',periods=12,freq='M'))\n"
   ]
  },
  {
   "cell_type": "code",
   "execution_count": 23,
   "id": "a11a03cf",
   "metadata": {},
   "outputs": [],
   "source": [
    "# # visualise tree\n",
    "# from sklearn.tree import export_graphviz\n",
    "\n",
    "# standard_model_estimator = base_model.estimators_[5]\n",
    "# export_graphviz(standard_model_estimator, out_file='tree.dot', \n",
    "#                 feature_names = X_train.columns.values.tolist(),\n",
    "#                 class_names = ['CPIH ALL ITEMS'],\n",
    "#                 rounded = True, proportion = False, \n",
    "#                 precision = 2, filled = True)\n",
    "\n",
    "# from subprocess import call\n",
    "# call(['dot', '-Tpng', 'tree.dot', '-o', 'tree.png', '-Gdpi=600'])\n",
    "\n",
    "# # Display in jupyter notebook\n",
    "# from IPython.display import Image\n",
    "# Image(filename = 'tree.png')"
   ]
  },
  {
   "cell_type": "code",
   "execution_count": 24,
   "id": "54796d5c",
   "metadata": {},
   "outputs": [
    {
     "name": "stdout",
     "output_type": "stream",
     "text": [
      "Model Performance\n",
      "MSE:  1.121824909430166\n",
      "RMSE:  1.0591623621665216\n",
      "MAE:  0.9262518333320694\n",
      "R2: -1.405381704633717\n"
     ]
    }
   ],
   "source": [
    "best_random = rf_random.best_estimator_\n",
    "random_accuracy = evaluate(best_random,X_test, y_test)\n",
    "\n",
    "best_estimate_predictions = random_accuracy\n",
    "\n",
    "#create df of best esti. predictions (pred using random search model)\n",
    "best_estimate_predicted_df = pd.DataFrame(best_estimate_predictions, index=pd.date_range('2018-12-01',periods=12,freq='M'))\n"
   ]
  },
  {
   "cell_type": "code",
   "execution_count": 25,
   "id": "20141150",
   "metadata": {},
   "outputs": [
    {
     "name": "stdout",
     "output_type": "stream",
     "text": [
      "Train MSE:  1.2107564748256977e-24\n",
      "Train R2:  1.0\n"
     ]
    }
   ],
   "source": [
    "from sklearn.metrics import r2_score\n",
    "\n",
    "# performance on training data\n",
    "rf_tuned_y_train_predict = best_random.predict(X_train)\n",
    "\n",
    "mse_train_tuned = mean_squared_error(y_train,rf_tuned_y_train_predict)\n",
    "\n",
    "r2_train_tuned = r2_score(y_train, rf_tuned_y_train_predict)\n",
    "\n",
    "print('Train MSE: ', mse_train_tuned)\n",
    "print('Train R2: ', r2_train_tuned)"
   ]
  },
  {
   "cell_type": "code",
   "execution_count": 26,
   "id": "c7d3c40e",
   "metadata": {},
   "outputs": [
    {
     "name": "stdout",
     "output_type": "stream",
     "text": [
      "Train MSE:  0.011247901129032201\n",
      "Train R2:  0.9999552523248721\n"
     ]
    }
   ],
   "source": [
    "rf_base_y_train_predict = base_model.predict(X_train)\n",
    "\n",
    "mse_train_base = mean_squared_error(y_train, rf_base_y_train_predict)\n",
    "\n",
    "r2_train_base = r2_score(y_train, rf_base_y_train_predict)\n",
    "\n",
    "print('Train MSE: ', mse_train_base)\n",
    "print('Train R2: ', r2_train_base)"
   ]
  },
  {
   "cell_type": "code",
   "execution_count": null,
   "id": "227615d4",
   "metadata": {},
   "outputs": [],
   "source": []
  },
  {
   "cell_type": "code",
   "execution_count": null,
   "id": "e988cd47",
   "metadata": {},
   "outputs": [],
   "source": []
  },
  {
   "cell_type": "code",
   "execution_count": 27,
   "id": "31cc53e8",
   "metadata": {},
   "outputs": [],
   "source": [
    "# base_model.score(X_train, y_train)#"
   ]
  },
  {
   "cell_type": "code",
   "execution_count": 28,
   "id": "ffd74b52",
   "metadata": {},
   "outputs": [],
   "source": [
    "# from sklearn.model_selection import cross_validate"
   ]
  },
  {
   "cell_type": "code",
   "execution_count": 29,
   "id": "3fcf9dde",
   "metadata": {},
   "outputs": [],
   "source": [
    "# rf_random_scores = cross_validate(rf_random, X_train, y_train, cv=3)\n",
    "# print('Mean R^2 score:', np.mean(rf_random_scores))\n",
    "# print('Standard deviation of R^2 score:', np.std(rf_random_scores))"
   ]
  },
  {
   "cell_type": "code",
   "execution_count": 30,
   "id": "c4a049c6",
   "metadata": {},
   "outputs": [],
   "source": [
    "# print('hyper-tuned rf R2 score: ', rf_random_scores['test_r2'])"
   ]
  },
  {
   "cell_type": "code",
   "execution_count": 31,
   "id": "556df6f7",
   "metadata": {},
   "outputs": [],
   "source": [
    "# base_scores = cross_val_score(base_model, X_train, y_train, cv=3)\n",
    "# print('Mean R^2 score:', np.mean(base_scores))\n",
    "# print('Standard deviation of R^2 score:', np.std(base_scores))"
   ]
  },
  {
   "cell_type": "code",
   "execution_count": 32,
   "id": "8ce1b65e",
   "metadata": {},
   "outputs": [],
   "source": [
    "# print('base rf R2 score: ', base_scores['test_r2'])"
   ]
  },
  {
   "cell_type": "code",
   "execution_count": 34,
   "id": "8d8d1eae",
   "metadata": {},
   "outputs": [
    {
     "data": {
      "image/png": "[encoded data removed]",
      "text/plain": [
       "<Figure size 1200x400 with 1 Axes>"
      ]
     },
     "metadata": {},
     "output_type": "display_data"
    }
   ],
   "source": [
    "## graph plot\n",
    "plt.figure(figsize=(12,4))\n",
    "plt.plot(cpi_data_pre_covid.loc['2019-01-01':'2019-12-01']['CPIH ALL ITEMS'], label=\"CPI Test Data\")\n",
    "# plt.plot(cpi_data_pre_covid.loc['2015-01-01':'2019-01-01']['CPIH ALL ITEMS'], label='CPI Training Data')\n",
    "plt.plot(base_predicted_df, label=\"Standard RF Prediction\")\n",
    "plt.plot(best_estimate_predicted_df, label=\"Hyper-Parameter Tuned RF Prediction\")\n",
    "plt.xlabel('Date')\n",
    "plt.ylabel('CPI')\n",
    "plt.legend(loc='best')\n",
    "plt.title('Random Forest Prediction')\n",
    "plt.show()\n"
   ]
  },
  {
   "cell_type": "code",
   "execution_count": null,
   "id": "5c06a27e",
   "metadata": {},
   "outputs": [],
   "source": []
  },
  {
   "cell_type": "code",
   "execution_count": null,
   "id": "eaecb975",
   "metadata": {},
   "outputs": [],
   "source": []
  }
 ],
 "metadata": {
  "kernelspec": {
   "display_name": "Python 3 (ipykernel)",
   "language": "python",
   "name": "python3"
  },
  "language_info": {
   "codemirror_mode": {
    "name": "ipython",
    "version": 3
   },
   "file_extension": ".py",
   "mimetype": "text/x-python",
   "name": "python",
   "nbconvert_exporter": "python",
   "pygments_lexer": "ipython3",
   "version": "3.10.9"
  }
 },
 "nbformat": 4,
 "nbformat_minor": 5
}

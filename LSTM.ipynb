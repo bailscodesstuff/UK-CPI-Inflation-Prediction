{
 "cells": [
  {
   "cell_type": "code",
   "execution_count": 114,
   "id": "effc03b9",
   "metadata": {},
   "outputs": [],
   "source": [
    "import sys \n",
    "import numpy as np # linear algebra\n",
    "from scipy.stats import randint\n",
    "import pandas as pd # data processing, CSV file I/O (e.g. pd.read_csv), data manipulation as in SQL\n",
    "import matplotlib.pyplot as plt # this is used for the plot the graph \n",
    "import seaborn as sns # used for plot interactive graph. \n",
    "from sklearn.model_selection import train_test_split # to split the data into two parts\n",
    "from sklearn.model_selection import KFold # use for cross validation\n",
    "from sklearn.preprocessing import StandardScaler # for normalization\n",
    "from sklearn.preprocessing import MinMaxScaler\n",
    "from sklearn.pipeline import Pipeline # pipeline making\n",
    "from sklearn.model_selection import cross_val_score\n",
    "from sklearn.feature_selection import SelectFromModel\n",
    "from sklearn import metrics # for the check the error and accuracy of the model\n",
    "from sklearn.metrics import mean_squared_error,r2_score\n",
    "\n",
    "import keras\n",
    "import tensorflow as tf\n",
    "from tensorflow.keras.models import Sequential\n",
    "from keras.layers import Dense\n",
    "from keras.layers import LSTM\n",
    "from keras.layers import Dropout\n",
    "from keras.callbacks import EarlyStopping\n",
    "from keras.layers import Dense\n",
    "from keras.models import Sequential\n",
    "from keras.utils import to_categorical\n",
    "from keras.optimizers import SGD \n",
    "from keras.callbacks import EarlyStopping\n",
    "from keras.utils import np_utils\n",
    "import itertools\n",
    "from keras.layers import LSTM\n",
    "# from keras.layers.convolutional import Conv1D\n",
    "# from keras.layers.convolutional import MaxPooling1D\n",
    "from keras.layers import Dropout"
   ]
  },
  {
   "cell_type": "code",
   "execution_count": 115,
   "id": "ae91debe",
   "metadata": {},
   "outputs": [],
   "source": [
    "cpi_data_refined = pd.read_csv('CPI Refined Data.csv', parse_dates={'Date':['DATE']})\n",
    "original = cpi_data_refined[['Date', 'CPIH ALL ITEMS']]\n",
    "train_dates = pd.to_datetime(cpi_data_refined['Date'])\n",
    "cpi_data_refined.set_index('Date', inplace=True)"
   ]
  },
  {
   "cell_type": "code",
   "execution_count": 116,
   "id": "81031100",
   "metadata": {},
   "outputs": [
    {
     "data": {
      "text/plain": [
       "Index(['CPIH ALL ITEMS', 'FOOD AND NON-ALCOHOLIC BEVERAGES',\n",
       "       'ALCOHOLIC BEVERAGES AND TOBACCO', 'CLOTHING AND FOOTWEAR',\n",
       "       'FURNITURE, HOUSEHOLD EQUIPMENT AND MAINTENANCE', 'HEALTH', 'TRANSPORT',\n",
       "       'ELECTRICITY, GAS AND OTHER FUELS', 'COMMUNICATION',\n",
       "       'RECREATION & CULTURE', 'EDUCATION', 'RESTAURANTS AND HOTELS',\n",
       "       'MISCELLANEOUS GOODS AND SERVICES'],\n",
       "      dtype='object')"
      ]
     },
     "execution_count": 116,
     "metadata": {},
     "output_type": "execute_result"
    }
   ],
   "source": [
    "cpi_data_refined.columns"
   ]
  },
  {
   "cell_type": "code",
   "execution_count": 117,
   "id": "7fd563fc",
   "metadata": {},
   "outputs": [],
   "source": [
    "cpi_data_refined.drop('CLOTHING AND FOOTWEAR',axis=1,inplace=True)"
   ]
  },
  {
   "cell_type": "code",
   "execution_count": 118,
   "id": "f4c2b046",
   "metadata": {},
   "outputs": [],
   "source": [
    "cpi_data_pre_covid = cpi_data_refined[:384]"
   ]
  },
  {
   "cell_type": "markdown",
   "id": "83483eb8",
   "metadata": {},
   "source": [
    "# DROP COVID 19 DATES"
   ]
  },
  {
   "cell_type": "code",
   "execution_count": 119,
   "id": "a9df5e4b",
   "metadata": {},
   "outputs": [],
   "source": [
    "# Scale the Data\n",
    "scaler = StandardScaler()\n",
    "scaler = scaler.fit(cpi_data_pre_covid)\n",
    "df_scaled_cpi = scaler.transform(cpi_data_pre_covid)"
   ]
  },
  {
   "cell_type": "code",
   "execution_count": 120,
   "id": "3c85199e",
   "metadata": {},
   "outputs": [
    {
     "name": "stdout",
     "output_type": "stream",
     "text": [
      "(380, 4, 12)\n",
      "(380, 1)\n"
     ]
    }
   ],
   "source": [
    "# reshape input data\n",
    "trainX = []\n",
    "trainY = []\n",
    "\n",
    "n_future = 1\n",
    "n_past = 4\n",
    "\n",
    "# setup for multivariate LSTM, we must get input data ready\n",
    "\n",
    "\n",
    "for i in range(n_past, len(df_scaled_cpi) - n_future+1):\n",
    "    trainX.append(df_scaled_cpi[i-n_past:i, 0:df_scaled_cpi.shape[1]])\n",
    "    trainY.append(df_scaled_cpi[i +n_future-1:i+n_future, 0])\n",
    "\n",
    "trainX,trainY = np.array(trainX), np.array(trainY)\n",
    "\n",
    "\n",
    "# trainX[0] represents the no. of datapoints we have for training. We are holding back 4 months (see n_past=4)\n",
    "# trainX[1] represents the number of days we are looking back (4)\n",
    "# trainX[2] represents number of variables \n",
    "\n",
    "print(trainX.shape)\n",
    "print(trainY.shape)"
   ]
  },
  {
   "cell_type": "code",
   "execution_count": 121,
   "id": "cf20854e",
   "metadata": {
    "scrolled": true
   },
   "outputs": [
    {
     "name": "stdout",
     "output_type": "stream",
     "text": [
      "380\n"
     ]
    }
   ],
   "source": [
    "print(len(trainX))"
   ]
  },
  {
   "cell_type": "markdown",
   "id": "9996cfed",
   "metadata": {},
   "source": [
    "## Define Model"
   ]
  },
  {
   "cell_type": "code",
   "execution_count": 331,
   "id": "b115deee",
   "metadata": {
    "scrolled": false
   },
   "outputs": [
    {
     "name": "stdout",
     "output_type": "stream",
     "text": [
      "Model: \"sequential_23\"\n",
      "_________________________________________________________________\n",
      " Layer (type)                Output Shape              Param #   \n",
      "=================================================================\n",
      " lstm_46 (LSTM)              (None, 4, 64)             19712     \n",
      "                                                                 \n",
      " dense_45 (Dense)            (None, 4, 32)             2080      \n",
      "                                                                 \n",
      " dropout_45 (Dropout)        (None, 4, 32)             0         \n",
      "                                                                 \n",
      " lstm_47 (LSTM)              (None, 64)                24832     \n",
      "                                                                 \n",
      " dropout_46 (Dropout)        (None, 64)                0         \n",
      "                                                                 \n",
      " dense_46 (Dense)            (None, 1)                 65        \n",
      "                                                                 \n",
      "=================================================================\n",
      "Total params: 46,689\n",
      "Trainable params: 46,689\n",
      "Non-trainable params: 0\n",
      "_________________________________________________________________\n"
     ]
    }
   ],
   "source": [
    "model = Sequential()\n",
    "model.add(LSTM(64,activation='relu', input_shape=(trainX.shape[1],trainX.shape[2]), return_sequences=True))\n",
    "model.add(Dense(32, activation ='relu'))\n",
    "model.add(Dropout(0.25))\n",
    "model.add(LSTM(64, activation='relu', input_shape=(trainX.shape[1],trainX.shape[2]), return_sequences=False))\n",
    "model.add(Dropout(0.3))\n",
    "model.add(Dense(trainY.shape[1]))\n",
    "\n",
    "model.compile(optimizer='adam', loss='mse', metrics=['mean_squared_error'])\n",
    "\n",
    "model.summary()"
   ]
  },
  {
   "cell_type": "code",
   "execution_count": 332,
   "id": "8d27f3b9",
   "metadata": {},
   "outputs": [
    {
     "name": "stdout",
     "output_type": "stream",
     "text": [
      "0\n",
      "(384, 12)\n"
     ]
    }
   ],
   "source": [
    "# print(len(cpi_data_refined))\n",
    "\n",
    "testX = df_scaled_cpi[408:]\n",
    "print(len(testX))\n",
    "print(df_scaled_cpi.shape)"
   ]
  },
  {
   "cell_type": "markdown",
   "id": "08ba5d67",
   "metadata": {},
   "source": [
    "# Fit Model"
   ]
  },
  {
   "cell_type": "code",
   "execution_count": 333,
   "id": "3e0c7273",
   "metadata": {},
   "outputs": [],
   "source": [
    "history = model.fit(trainX[:368], trainY[:368], epochs=15, batch_size=16,validation_split=0.1, verbose=0)"
   ]
  },
  {
   "cell_type": "code",
   "execution_count": 334,
   "id": "e7b1d0e7",
   "metadata": {},
   "outputs": [
    {
     "name": "stdout",
     "output_type": "stream",
     "text": [
      "dict_keys(['loss', 'val_loss'])\n"
     ]
    }
   ],
   "source": [
    "print(history.history.keys())"
   ]
  },
  {
   "cell_type": "markdown",
   "id": "13dc1745",
   "metadata": {},
   "source": [
    "# Check for overfitting"
   ]
  },
  {
   "cell_type": "code",
   "execution_count": 321,
   "id": "1112a135",
   "metadata": {
    "scrolled": true
   },
   "outputs": [
    {
     "data": {
      "image/png": "[encoded data removed]",
      "text/plain": [
       "<Figure size 640x480 with 1 Axes>"
      ]
     },
     "metadata": {},
     "output_type": "display_data"
    }
   ],
   "source": [
    "plt.plot(history.history['loss'], label = 'Training Loss', color = 'Blue')\n",
    "plt.plot(history.history['val_loss'], label = 'Validation Loss', color = 'Red')\n",
    "plt.title('Model Loss')\n",
    "plt.ylabel('Loss')\n",
    "plt.xlabel('Epoch')\n",
    "plt.legend()\n",
    "plt.show()"
   ]
  },
  {
   "cell_type": "code",
   "execution_count": 322,
   "id": "e6c9b200",
   "metadata": {},
   "outputs": [],
   "source": [
    "# print(history.history['mean_squared_error'])\n",
    "# print(history.history['val_mean_squared_error'])"
   ]
  },
  {
   "cell_type": "code",
   "execution_count": 323,
   "id": "2dd6f826",
   "metadata": {},
   "outputs": [
    {
     "data": {
      "image/png": "[encoded data removed]",
      "text/plain": [
       "<Figure size 640x480 with 1 Axes>"
      ]
     },
     "metadata": {},
     "output_type": "display_data"
    }
   ],
   "source": [
    "# Plot the training accuracy\n",
    "plt.plot(history.history['mean_squared_error'],label = 'Training MSE', color = 'Blue')\n",
    "plt.plot(history.history['val_mean_squared_error'], label = 'Validation MSE', color = 'Red')\n",
    "plt.title('Model Training MSE')\n",
    "plt.ylabel('MSE')\n",
    "plt.xlabel('Epoch')\n",
    "plt.legend()\n",
    "plt.show()"
   ]
  },
  {
   "cell_type": "markdown",
   "id": "58026fe8",
   "metadata": {},
   "source": [
    "# Forecast\n",
    "\n",
    "- I want to try and forecast 3 months in advance"
   ]
  },
  {
   "cell_type": "code",
   "execution_count": 324,
   "id": "5bdc8f6e",
   "metadata": {},
   "outputs": [],
   "source": [
    "n_past = 12\n",
    "#im trying to predict the past 3 months\n",
    "n_months_for_prediction = 12\n",
    "forecast_period_dates = pd.date_range(list(train_dates)[-n_past], periods=n_months_for_prediction, freq='m').tolist()"
   ]
  },
  {
   "cell_type": "code",
   "execution_count": 325,
   "id": "be46c619",
   "metadata": {},
   "outputs": [
    {
     "name": "stdout",
     "output_type": "stream",
     "text": [
      "[6, 7, 8, 9]\n"
     ]
    }
   ],
   "source": [
    "arr=[1,2,3,4,5,6,7,8,9]\n",
    "print(arr[-4:])"
   ]
  },
  {
   "cell_type": "code",
   "execution_count": 326,
   "id": "4aabc798",
   "metadata": {},
   "outputs": [
    {
     "name": "stdout",
     "output_type": "stream",
     "text": [
      "1/1 [==============================] - 1s 676ms/step\n"
     ]
    }
   ],
   "source": [
    "forecast = model.predict(trainX[368:])\n",
    "# forecast = model.predict(testX)"
   ]
  },
  {
   "cell_type": "code",
   "execution_count": 327,
   "id": "fa68f1ca",
   "metadata": {},
   "outputs": [
    {
     "name": "stdout",
     "output_type": "stream",
     "text": [
      "12\n",
      "[[1.4971681]\n",
      " [1.5019137]\n",
      " [1.5111904]\n",
      " [1.5170907]\n",
      " [1.5147873]\n",
      " [1.5463778]\n",
      " [1.5552634]\n",
      " [1.5634276]\n",
      " [1.5778176]\n",
      " [1.5830346]\n",
      " [1.5840936]\n",
      " [1.5915823]]\n"
     ]
    }
   ],
   "source": [
    "#we need to perform an inverse transformation to go back to original range\n",
    "print(len(forecast))\n",
    "print(forecast)"
   ]
  },
  {
   "cell_type": "code",
   "execution_count": 328,
   "id": "22595677",
   "metadata": {},
   "outputs": [],
   "source": [
    "forecast_transform = np.repeat(forecast, cpi_data_refined.shape[1],axis=-1)\n",
    "cpi_prediction = scaler.inverse_transform(forecast_transform)[:,0]"
   ]
  },
  {
   "cell_type": "code",
   "execution_count": 329,
   "id": "a0840f36",
   "metadata": {},
   "outputs": [
    {
     "name": "stdout",
     "output_type": "stream",
     "text": [
      "[104.095894 104.173775 104.32602  104.422844 104.38504  104.90347\n",
      " 105.04929  105.18327  105.419426 105.50504  105.522415 105.64532 ]\n"
     ]
    }
   ],
   "source": [
    "print(cpi_prediction)"
   ]
  },
  {
   "cell_type": "markdown",
   "id": "9cd6689a",
   "metadata": {},
   "source": [
    "# Evaluation"
   ]
  },
  {
   "cell_type": "code",
   "execution_count": 330,
   "id": "d679e2c2",
   "metadata": {},
   "outputs": [
    {
     "name": "stdout",
     "output_type": "stream",
     "text": [
      "Model Performance\n",
      "MSE:  8.601540689278083\n",
      "RMSE:  2.9328383333007095\n",
      "MAE:  2.9174322458902986\n"
     ]
    }
   ],
   "source": [
    "from sklearn.metrics import mean_squared_error,r2_score, mean_absolute_error\n",
    "#mse\n",
    "actual_cpi = cpi_data_pre_covid['CPIH ALL ITEMS'][-n_months_for_prediction:]\n",
    "\n",
    "\n",
    "mse = mean_squared_error(actual_cpi, cpi_prediction)\n",
    "rmse = np.sqrt(mse)\n",
    "mae = mean_absolute_error(actual_cpi, cpi_prediction)\n",
    "\n",
    "# model_error = abs(actual_cpi - cpi_prediction)\n",
    "# print('Mean Model Error: ', model_error.mean())\n",
    "\n",
    "\n",
    "print('Model Performance')\n",
    "print('MSE: ', mse)\n",
    "print('RMSE: ', rmse)\n",
    "print('MAE: ', mae)"
   ]
  },
  {
   "cell_type": "code",
   "execution_count": 275,
   "id": "99dd200a",
   "metadata": {
    "scrolled": true
   },
   "outputs": [],
   "source": [
    "# observed = cpi_data_refined.loc['2022-10-01':'2022-12-01',['CPIH ALL ITEMS']]\n",
    "# observed.plot(color = 'SteelBlue', title = 'Actual', legend = False)\n",
    "# plt.show()\n",
    "\n",
    "# # print(testY_hat)\n",
    "\n",
    "# predicted = pd.DataFrame(cpi_prediction, index=pd.date_range('2022-10-01',periods=4,freq='M'))\n",
    "# predicted.plot(color = 'Firebrick', title = 'Forecasted', legend = False)\n",
    "# plt.show()"
   ]
  },
  {
   "cell_type": "code",
   "execution_count": 171,
   "id": "cb833ee2",
   "metadata": {},
   "outputs": [
    {
     "data": {
      "image/png": "[encoded data removed]",
      "text/plain": [
       "<Figure size 1200x400 with 1 Axes>"
      ]
     },
     "metadata": {},
     "output_type": "display_data"
    }
   ],
   "source": [
    "predicted = pd.DataFrame(cpi_prediction, index=pd.date_range('2018-12-01',periods=12,freq='M'))\n",
    "\n",
    "plt.figure(figsize=(12,4))\n",
    "plt.plot(cpi_data_pre_covid.loc['2019-01-01':'2019-12-01']['CPIH ALL ITEMS'], label=\"CPI Test Data\")\n",
    "# plt.plot(cpi_data_pre_covid.loc['2015-01-01':'2019-01-01']['CPIH ALL ITEMS'], label='CPI Training Data')\n",
    "plt.plot(predicted, label=\"Predicted CPI\")\n",
    "plt.xlabel('Date')\n",
    "plt.ylabel('CPI')\n",
    "plt.legend(loc='best')\n",
    "plt.title('LSTM Prediction')\n",
    "plt.show()"
   ]
  },
  {
   "cell_type": "code",
   "execution_count": null,
   "id": "4cc33f46",
   "metadata": {},
   "outputs": [],
   "source": []
  },
  {
   "cell_type": "code",
   "execution_count": null,
   "id": "47512462",
   "metadata": {},
   "outputs": [],
   "source": []
  },
  {
   "cell_type": "markdown",
   "id": "c6faf7f2",
   "metadata": {},
   "source": [
    "## Out of Sample Forecasting"
   ]
  },
  {
   "cell_type": "code",
   "execution_count": null,
   "id": "91e833da",
   "metadata": {},
   "outputs": [],
   "source": []
  },
  {
   "cell_type": "code",
   "execution_count": null,
   "id": "be4562a7",
   "metadata": {},
   "outputs": [],
   "source": []
  }
 ],
 "metadata": {
  "kernelspec": {
   "display_name": "Python 3 (ipykernel)",
   "language": "python",
   "name": "python3"
  },
  "language_info": {
   "codemirror_mode": {
    "name": "ipython",
    "version": 3
   },
   "file_extension": ".py",
   "mimetype": "text/x-python",
   "name": "python",
   "nbconvert_exporter": "python",
   "pygments_lexer": "ipython3",
   "version": "3.10.9"
  }
 },
 "nbformat": 4,
 "nbformat_minor": 5
}
